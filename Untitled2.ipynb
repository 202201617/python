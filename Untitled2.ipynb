{
  "nbformat": 4,
  "nbformat_minor": 0,
  "metadata": {
    "colab": {
      "provenance": [],
      "collapsed_sections": [],
      "authorship_tag": "ABX9TyMr6u2bPyc96i06M94A8QPC",
      "include_colab_link": true
    },
    "kernelspec": {
      "name": "python3",
      "display_name": "Python 3"
    },
    "language_info": {
      "name": "python"
    }
  },
  "cells": [
    {
      "cell_type": "markdown",
      "metadata": {
        "id": "view-in-github",
        "colab_type": "text"
      },
      "source": [
        "<a href=\"https://colab.research.google.com/github/202201617/-/blob/main/Untitled2.ipynb\" target=\"_parent\"><img src=\"https://colab.research.google.com/assets/colab-badge.svg\" alt=\"Open In Colab\"/></a>"
      ]
    },
    {
      "cell_type": "code",
      "execution_count": 16,
      "metadata": {
        "colab": {
          "base_uri": "https://localhost:8080/"
        },
        "id": "U79tLLhqo4Z_",
        "outputId": "24993dec-8c9d-4ffc-cdcb-9fbf71ea6605"
      },
      "outputs": [
        {
          "output_type": "stream",
          "name": "stdout",
          "text": [
            "자연수 한 개를 입력하세요. 46\n",
            "계속 입력을 원하시면, 자연수 한 개를 입력하시고, 아니라면 0을 입력하세요. 35\n",
            "계속 입력을 원하시면, 자연수 한 개를 입력하시고, 아니라면 0을 입력하세요. 45\n",
            "계속 입력을 원하시면, 자연수 한 개를 입력하시고, 아니라면 0을 입력하세요. 22\n",
            "계속 입력을 원하시면, 자연수 한 개를 입력하시고, 아니라면 0을 입력하세요. 16\n",
            "계속 입력을 원하시면, 자연수 한 개를 입력하시고, 아니라면 0을 입력하세요. 76\n",
            "계속 입력을 원하시면, 자연수 한 개를 입력하시고, 아니라면 0을 입력하세요. 99\n",
            "계속 입력을 원하시면, 자연수 한 개를 입력하시고, 아니라면 0을 입력하세요. 2\n",
            "계속 입력을 원하시면, 자연수 한 개를 입력하시고, 아니라면 0을 입력하세요. 0\n",
            "당신이 입력한 숫자는 큰 것부터 순서대로 말한다면 아래와 같습니다. \n",
            "99, 76, 46, 45, 35, 22, 16, 2\n"
          ]
        }
      ],
      "source": [
        "##202201617 수학과 박혜주\n",
        "\n",
        "#Github ID: 202201617\n",
        "\n",
        "A = []\n",
        "for i in range(100):\n",
        "  if (i == 0):                                                                                       #0번째의 경우에는 아래를 출력한다.\n",
        "    number = input(\"자연수 한 개를 입력하세요. \")\n",
        "  elif (i == 100):                                                                                   #100번째의 경우에는 아래를 출력한다.\n",
        "    print(\"벌써 100개를 입력했어요. 그만하세요.\")\n",
        "    break                                                                                            #100번째의 경우 멈춘다.\n",
        "  else:                                                                                              #0번째, 100번째가 아닌 경우에는 아래와 같이 한다.\n",
        "    number = input(\"계속 입력을 원하시면, 자연수 한 개를 입력하시고, 아니라면 0을 입력하세요. \")\n",
        "\n",
        "  if (number == \"0\"):                                                                                #입력된 숫자가 0이라면 멈춘다.\n",
        "    break\n",
        "  else:                                                                                              #아니라면 리스트에 입력된 숫자를 넣는다.\n",
        "      A.append(int(number))                                                                          #int로 바꿔줘야 내림차순이 된다.\n",
        "\n",
        "new_A = []                                                                                           #새로운 리스트\n",
        "for j in range(len(A)):                                                                              #A리스트 안에 있는 j를 사용한다.\n",
        "  maxA = max(A);                                                                                     #maxA라는 변수는 list A중에서 가장 큰 것을 의미한다.\n",
        "  new_A.append(str(maxA))                                                                                #새로운 리스트에 maxA를 넣는다.\n",
        "  A.remove(maxA)                                                                                     #기존의 리스트에서 maxA를 제거한다.\n",
        "\n",
        "print(\"당신이 입력한 숫자는 큰 것부터 순서대로 말한다면 아래와 같습니다. \")\n",
        "print(\", \".join(new_A))"
      ]
    },
    {
      "cell_type": "code",
      "source": [
        "index = 1\n",
        "\n",
        "number = int(input(\"30이하의 정수를 입력해주세요. \"));\n",
        "\n",
        "if (number > 30):                                                               #입력된 숫자가 30보다 많을 경우에는 아래와 같이 출력된다.\n",
        "  print(\"너무 많습니다.\")\n",
        "else:\n",
        "  while(index < number+1):                                                      #입력된 숫자+1이 index보다 큰 경우 아래와 같이 출력한다.\n",
        "    print(\"*\"*(index-1) + str(index))                                           #index보다 하나작게 *을 곱해주고, index를 더한다.\n",
        "\n",
        "    index += 1                                                                  #인덱스에 1을 계속 더해준다."
      ],
      "metadata": {
        "id": "9HIC6e1LptAa",
        "colab": {
          "base_uri": "https://localhost:8080/"
        },
        "outputId": "adfaed02-703f-4abc-a41b-50de5b5e4727"
      },
      "execution_count": null,
      "outputs": [
        {
          "output_type": "stream",
          "name": "stdout",
          "text": [
            "30이하의 정수를 입력해주세요. 5\n",
            "1\n",
            "*2\n",
            "**3\n",
            "***4\n",
            "****5\n"
          ]
        }
      ]
    }
  ]
}