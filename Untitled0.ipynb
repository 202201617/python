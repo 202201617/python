{
  "nbformat": 4,
  "nbformat_minor": 0,
  "metadata": {
    "colab": {
      "provenance": [],
      "collapsed_sections": [],
      "include_colab_link": true
    },
    "kernelspec": {
      "name": "python3",
      "display_name": "Python 3"
    },
    "language_info": {
      "name": "python"
    }
  },
  "cells": [
    {
      "cell_type": "markdown",
      "metadata": {
        "id": "view-in-github",
        "colab_type": "text"
      },
      "source": [
        "<a href=\"https://colab.research.google.com/github/202201617/-/blob/main/Untitled0.ipynb\" target=\"_parent\"><img src=\"https://colab.research.google.com/assets/colab-badge.svg\" alt=\"Open In Colab\"/></a>"
      ]
    },
    {
      "cell_type": "code",
      "source": [
        "#202201617 박혜주\n",
        "\n",
        "#문제1번\n",
        "a=1\n",
        "b=2\n",
        "print (a+b)\n",
        "\n",
        "#문제3번\n",
        "A = int(input(\"숫자를 입력하세요 >> \"))                      \n",
        "\n",
        "if (A > 0):\n",
        "  if (A <= 30):\n",
        "    for i in range(1, A+1):\n",
        "      for j in range(1,i+1):\n",
        "        print(j, end=\"\")\n",
        "      print()\n",
        "  elif (A > 30):\n",
        "    print(\"너무 많습니다.\")\n",
        "\n",
        "#문제4번\n",
        "A = input(\"숫자를 입력하세요 >> \")\n",
        "if A.isdecimal():\n",
        "  A = int(A)\n",
        "  if (A > 0):\n",
        "    if (A <= 30):\n",
        "      for i in range(1, A+1):\n",
        "        for j in range(1,i+1):\n",
        "          print(j, end=\"\")\n",
        "        print()\n",
        "    elif (A > 30):\n",
        "      print(\"너무 많습니다.\")\n",
        "else:\n",
        "  print(\"정수로 입력하세요.\")"
      ],
      "metadata": {
        "colab": {
          "base_uri": "https://localhost:8080/"
        },
        "id": "ebh4yrN3zA_X",
        "outputId": "dc78a019-5b5a-4885-de31-eb849ebd45be"
      },
      "execution_count": null,
      "outputs": [
        {
          "output_type": "stream",
          "name": "stdout",
          "text": [
            "3\n",
            "숫자를 입력하세요 >> 4\n",
            "1\n",
            "12\n",
            "123\n",
            "1234\n",
            "숫자를 입력하세요 >> 2/7\n",
            "정수로 입력하세요.\n"
          ]
        }
      ]
    },
    {
      "cell_type": "code",
      "source": [],
      "metadata": {
        "id": "fUayJroi-gpa"
      },
      "execution_count": null,
      "outputs": []
    }
  ]
}